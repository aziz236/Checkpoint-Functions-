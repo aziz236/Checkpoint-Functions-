{
 "cells": [
  {
   "cell_type": "code",
   "execution_count": 1,
   "id": "2e1411af",
   "metadata": {},
   "outputs": [
    {
     "name": "stdout",
     "output_type": "stream",
     "text": [
      "black-green-red-white-yellow\n"
     ]
    }
   ],
   "source": [
    "unorganized=\"green-red-yellow-black-white\"\n",
    "words=list(unorganized.split('-'))\n",
    "words.sort()\n",
    "final=\"\"\n",
    "for i in words:\n",
    "  final+='-'+i\n",
    "print(final[1:len(final)])"
   ]
  }
 ],
 "metadata": {
  "kernelspec": {
   "display_name": "Python 3",
   "language": "python",
   "name": "python3"
  },
  "language_info": {
   "codemirror_mode": {
    "name": "ipython",
    "version": 3
   },
   "file_extension": ".py",
   "mimetype": "text/x-python",
   "name": "python",
   "nbconvert_exporter": "python",
   "pygments_lexer": "ipython3",
   "version": "3.8.8"
  }
 },
 "nbformat": 4,
 "nbformat_minor": 5
}
