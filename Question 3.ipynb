{
 "cells": [
  {
   "cell_type": "code",
   "execution_count": 9,
   "id": "4349e850",
   "metadata": {},
   "outputs": [
    {
     "name": "stdout",
     "output_type": "stream",
     "text": [
      "sum= 13 mutiplication= 96\n"
     ]
    }
   ],
   "source": [
    "integers=[1,2,3,4,5,6,1,2,3]\n",
    "\n",
    "#Sum Function\n",
    "def sum(list):\n",
    "  s=0\n",
    "  for i in range(len(list)):\n",
    "    s=s+list[i]\n",
    "  return s\n",
    "\n",
    "#mutiplication function\n",
    "def multi(list):\n",
    "  s=1\n",
    "  for i in range(len(list)):\n",
    "    s=s*list[i]\n",
    "  return s\n",
    "\n",
    "total=[]\n",
    "mult=[]\n",
    "for i in range(len(integers)):\n",
    "  if i%2==0:\n",
    "    total.append(integers[i])\n",
    "  else:\n",
    "    mult.append(integers[i])\n",
    "print(\"sum=\",sum(total),'mutiplication=',multi(mult))"
   ]
  }
 ],
 "metadata": {
  "kernelspec": {
   "display_name": "Python 3",
   "language": "python",
   "name": "python3"
  },
  "language_info": {
   "codemirror_mode": {
    "name": "ipython",
    "version": 3
   },
   "file_extension": ".py",
   "mimetype": "text/x-python",
   "name": "python",
   "nbconvert_exporter": "python",
   "pygments_lexer": "ipython3",
   "version": "3.8.8"
  }
 },
 "nbformat": 4,
 "nbformat_minor": 5
}
