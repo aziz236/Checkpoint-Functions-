{
 "cells": [
  {
   "cell_type": "code",
   "execution_count": 2,
   "id": "68e8d17d",
   "metadata": {},
   "outputs": [
    {
     "name": "stdout",
     "output_type": "stream",
     "text": [
      "11,12,14,16\n"
     ]
    }
   ],
   "source": [
    "import math \n",
    "numbers=40,50,60,81\n",
    "def calculate(tuple):\n",
    "  string=\"\"\n",
    "  for i in (tuple):\n",
    "    i=int(math.sqrt(((2*50*i)/30)))\n",
    "    string=string+','+str(i)\n",
    "  string=string[1:len(string)]\n",
    "  return string\n",
    "print(calculate(numbers))"
   ]
  }
 ],
 "metadata": {
  "kernelspec": {
   "display_name": "Python 3",
   "language": "python",
   "name": "python3"
  },
  "language_info": {
   "codemirror_mode": {
    "name": "ipython",
    "version": 3
   },
   "file_extension": ".py",
   "mimetype": "text/x-python",
   "name": "python",
   "nbconvert_exporter": "python",
   "pygments_lexer": "ipython3",
   "version": "3.8.8"
  }
 },
 "nbformat": 4,
 "nbformat_minor": 5
}
