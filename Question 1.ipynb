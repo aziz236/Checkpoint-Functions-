{
 "cells": [
  {
   "cell_type": "code",
   "execution_count": 1,
   "id": "42373c16",
   "metadata": {},
   "outputs": [
    {
     "name": "stdout",
     "output_type": "stream",
     "text": [
      "90\n"
     ]
    }
   ],
   "source": [
    "def max(a,b,c):\n",
    "  if a>=b and a>=c:\n",
    "    return a\n",
    "  elif b>=a and b>=c:\n",
    "    return b\n",
    "  else:\n",
    "    return c\n",
    "print(max(70,90,80))"
   ]
  }
 ],
 "metadata": {
  "kernelspec": {
   "display_name": "Python 3",
   "language": "python",
   "name": "python3"
  },
  "language_info": {
   "codemirror_mode": {
    "name": "ipython",
    "version": 3
   },
   "file_extension": ".py",
   "mimetype": "text/x-python",
   "name": "python",
   "nbconvert_exporter": "python",
   "pygments_lexer": "ipython3",
   "version": "3.8.8"
  }
 },
 "nbformat": 4,
 "nbformat_minor": 5
}
